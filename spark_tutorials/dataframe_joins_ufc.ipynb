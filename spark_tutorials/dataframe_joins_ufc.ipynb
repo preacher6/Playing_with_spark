{
 "metadata": {
  "language_info": {
   "codemirror_mode": {
    "name": "ipython",
    "version": 3
   },
   "file_extension": ".py",
   "mimetype": "text/x-python",
   "name": "python",
   "nbconvert_exporter": "python",
   "pygments_lexer": "ipython3",
   "version": "3.7.9-final"
  },
  "orig_nbformat": 2,
  "kernelspec": {
   "name": "python3",
   "display_name": "Python 3.7.9 64-bit",
   "metadata": {
    "interpreter": {
     "hash": "529c9f8759bede575fc3c1c0a7d57d5ffc5b30205a4d6a007108b8ded7bffe54"
    }
   }
  }
 },
 "nbformat": 4,
 "nbformat_minor": 2,
 "cells": [
  {
   "cell_type": "code",
   "execution_count": 22,
   "metadata": {},
   "outputs": [
    {
     "output_type": "display_data",
     "data": {
      "text/plain": "<IPython.core.display.Javascript object>",
      "application/javascript": "\n            setTimeout(function() {\n                var nbb_cell_id = 22;\n                var nbb_unformatted_code = \"%load_ext nb_black\";\n                var nbb_formatted_code = \"%load_ext nb_black\";\n                var nbb_cells = Jupyter.notebook.get_cells();\n                for (var i = 0; i < nbb_cells.length; ++i) {\n                    if (nbb_cells[i].input_prompt_number == nbb_cell_id) {\n                        if (nbb_cells[i].get_text() == nbb_unformatted_code) {\n                             nbb_cells[i].set_text(nbb_formatted_code);\n                        }\n                        break;\n                    }\n                }\n            }, 500);\n            "
     },
     "metadata": {}
    }
   ],
   "source": [
    "%load_ext nb_black"
   ]
  },
  {
   "cell_type": "code",
   "execution_count": 26,
   "metadata": {},
   "outputs": [
    {
     "output_type": "display_data",
     "data": {
      "text/plain": "<IPython.core.display.Javascript object>",
      "application/javascript": "\n            setTimeout(function() {\n                var nbb_cell_id = 26;\n                var nbb_unformatted_code = \"from pyspark.sql import SparkSession\\nimport pyspark.sql.functions as F\\nfrom pyspark.sql import types as T\\n\\nspark = SparkSession.builder.appName(\\\"Dataframe Joins - UFC data\\\").getOrCreate()\";\n                var nbb_formatted_code = \"from pyspark.sql import SparkSession\\nimport pyspark.sql.functions as F\\nfrom pyspark.sql import types as T\\n\\nspark = SparkSession.builder.appName(\\\"Dataframe Joins - UFC data\\\").getOrCreate()\";\n                var nbb_cells = Jupyter.notebook.get_cells();\n                for (var i = 0; i < nbb_cells.length; ++i) {\n                    if (nbb_cells[i].input_prompt_number == nbb_cell_id) {\n                        if (nbb_cells[i].get_text() == nbb_unformatted_code) {\n                             nbb_cells[i].set_text(nbb_formatted_code);\n                        }\n                        break;\n                    }\n                }\n            }, 500);\n            "
     },
     "metadata": {}
    }
   ],
   "source": [
    "from pyspark.sql import SparkSession\n",
    "import pyspark.sql.functions as F\n",
    "from pyspark.sql import types as T\n",
    "\n",
    "spark = SparkSession.builder.appName(\"Dataframe Joins - UFC data\").getOrCreate()"
   ]
  },
  {
   "cell_type": "code",
   "execution_count": 27,
   "metadata": {},
   "outputs": [
    {
     "output_type": "execute_result",
     "data": {
      "text/plain": [
       "<pyspark.sql.session.SparkSession at 0x27604827508>"
      ],
      "text/html": "\n            <div>\n                <p><b>SparkSession - in-memory</b></p>\n                \n        <div>\n            <p><b>SparkContext</b></p>\n\n            <p><a href=\"http://DESKTOP-CNQ8AL4:4041\">Spark UI</a></p>\n\n            <dl>\n              <dt>Version</dt>\n                <dd><code>v3.0.1</code></dd>\n              <dt>Master</dt>\n                <dd><code>local[*]</code></dd>\n              <dt>AppName</dt>\n                <dd><code>Dataframe Joins - UFC data</code></dd>\n            </dl>\n        </div>\n        \n            </div>\n        "
     },
     "metadata": {},
     "execution_count": 27
    },
    {
     "output_type": "display_data",
     "data": {
      "text/plain": "<IPython.core.display.Javascript object>",
      "application/javascript": "\n            setTimeout(function() {\n                var nbb_cell_id = 27;\n                var nbb_unformatted_code = \"spark\";\n                var nbb_formatted_code = \"spark\";\n                var nbb_cells = Jupyter.notebook.get_cells();\n                for (var i = 0; i < nbb_cells.length; ++i) {\n                    if (nbb_cells[i].input_prompt_number == nbb_cell_id) {\n                        if (nbb_cells[i].get_text() == nbb_unformatted_code) {\n                             nbb_cells[i].set_text(nbb_formatted_code);\n                        }\n                        break;\n                    }\n                }\n            }, 500);\n            "
     },
     "metadata": {}
    }
   ],
   "source": [
    "spark"
   ]
  },
  {
   "cell_type": "code",
   "execution_count": 1,
   "metadata": {},
   "outputs": [],
   "source": [
    "import os\n",
    "from os.path import isfile, join"
   ]
  },
  {
   "cell_type": "code",
   "execution_count": 18,
   "metadata": {},
   "outputs": [],
   "source": [
    "loc = os.path.abspath(\"\")\n",
    "data_loc = f\"{loc}/data/ufc/\"\n",
    "data_files = [f for f in os.listdir(data_loc) if f.endswith('.csv')]"
   ]
  },
  {
   "cell_type": "code",
   "execution_count": 19,
   "metadata": {},
   "outputs": [
    {
     "output_type": "execute_result",
     "data": {
      "text/plain": [
       "['data.csv',\n",
       " 'preprocessed_data.csv',\n",
       " 'raw_fighter_details.csv',\n",
       " 'raw_total_fight_data.csv']"
      ]
     },
     "metadata": {},
     "execution_count": 19
    }
   ],
   "source": [
    "data_files"
   ]
  },
  {
   "cell_type": "code",
   "execution_count": 30,
   "metadata": {},
   "outputs": [
    {
     "output_type": "stream",
     "name": "stdout",
     "text": [
      "dict_keys(['data', 'preprocessed_data', 'raw_fighter_details', 'raw_total_fight_data'])\n"
     ]
    },
    {
     "output_type": "display_data",
     "data": {
      "text/plain": "<IPython.core.display.Javascript object>",
      "application/javascript": "\n            setTimeout(function() {\n                var nbb_cell_id = 30;\n                var nbb_unformatted_code = \"data = {}\\nfor file in data_files:\\n    key = file.split('.csv')[0]\\n    data[key] = spark.read.csv(f\\\"{data_loc}{file}\\\", inferSchema=True, header=True)\\n    data[key].createOrReplaceTempView(f\\\"data_{key}\\\")\\n\\nprint(data.keys())\";\n                var nbb_formatted_code = \"data = {}\\nfor file in data_files:\\n    key = file.split(\\\".csv\\\")[0]\\n    data[key] = spark.read.csv(f\\\"{data_loc}{file}\\\", inferSchema=True, header=True)\\n    data[key].createOrReplaceTempView(f\\\"data_{key}\\\")\\n\\nprint(data.keys())\";\n                var nbb_cells = Jupyter.notebook.get_cells();\n                for (var i = 0; i < nbb_cells.length; ++i) {\n                    if (nbb_cells[i].input_prompt_number == nbb_cell_id) {\n                        if (nbb_cells[i].get_text() == nbb_unformatted_code) {\n                             nbb_cells[i].set_text(nbb_formatted_code);\n                        }\n                        break;\n                    }\n                }\n            }, 500);\n            "
     },
     "metadata": {}
    }
   ],
   "source": [
    "data = {}\n",
    "for file in data_files:\n",
    "    key = file.split('.csv')[0]\n",
    "    data[key] = spark.read.csv(f\"{data_loc}{file}\", inferSchema=True, header=True)\n",
    "    data[key].createOrReplaceTempView(f\"data_{key}\")\n",
    "\n",
    "print(data.keys())"
   ]
  },
  {
   "cell_type": "code",
   "execution_count": 35,
   "metadata": {
    "tags": []
   },
   "outputs": [
    {
     "output_type": "execute_result",
     "data": {
      "text/plain": [
       "['R_fighter',\n",
       " 'B_fighter',\n",
       " 'Referee',\n",
       " 'date',\n",
       " 'location',\n",
       " 'Winner',\n",
       " 'title_bout',\n",
       " 'weight_class',\n",
       " 'no_of_rounds',\n",
       " 'B_current_lose_streak',\n",
       " 'B_current_win_streak',\n",
       " 'B_draw',\n",
       " 'B_avg_BODY_att',\n",
       " 'B_avg_BODY_landed',\n",
       " 'B_avg_CLINCH_att',\n",
       " 'B_avg_CLINCH_landed',\n",
       " 'B_avg_DISTANCE_att',\n",
       " 'B_avg_DISTANCE_landed',\n",
       " 'B_avg_GROUND_att',\n",
       " 'B_avg_GROUND_landed',\n",
       " 'B_avg_HEAD_att',\n",
       " 'B_avg_HEAD_landed',\n",
       " 'B_avg_KD',\n",
       " 'B_avg_LEG_att',\n",
       " 'B_avg_LEG_landed',\n",
       " 'B_avg_PASS',\n",
       " 'B_avg_REV',\n",
       " 'B_avg_SIG_STR_att',\n",
       " 'B_avg_SIG_STR_landed',\n",
       " 'B_avg_SIG_STR_pct',\n",
       " 'B_avg_SUB_ATT',\n",
       " 'B_avg_TD_att',\n",
       " 'B_avg_TD_landed',\n",
       " 'B_avg_TD_pct',\n",
       " 'B_avg_TOTAL_STR_att',\n",
       " 'B_avg_TOTAL_STR_landed',\n",
       " 'B_longest_win_streak',\n",
       " 'B_losses',\n",
       " 'B_avg_opp_BODY_att',\n",
       " 'B_avg_opp_BODY_landed',\n",
       " 'B_avg_opp_CLINCH_att',\n",
       " 'B_avg_opp_CLINCH_landed',\n",
       " 'B_avg_opp_DISTANCE_att',\n",
       " 'B_avg_opp_DISTANCE_landed',\n",
       " 'B_avg_opp_GROUND_att',\n",
       " 'B_avg_opp_GROUND_landed',\n",
       " 'B_avg_opp_HEAD_att',\n",
       " 'B_avg_opp_HEAD_landed',\n",
       " 'B_avg_opp_KD',\n",
       " 'B_avg_opp_LEG_att',\n",
       " 'B_avg_opp_LEG_landed',\n",
       " 'B_avg_opp_PASS',\n",
       " 'B_avg_opp_REV',\n",
       " 'B_avg_opp_SIG_STR_att',\n",
       " 'B_avg_opp_SIG_STR_landed',\n",
       " 'B_avg_opp_SIG_STR_pct',\n",
       " 'B_avg_opp_SUB_ATT',\n",
       " 'B_avg_opp_TD_att',\n",
       " 'B_avg_opp_TD_landed',\n",
       " 'B_avg_opp_TD_pct',\n",
       " 'B_avg_opp_TOTAL_STR_att',\n",
       " 'B_avg_opp_TOTAL_STR_landed',\n",
       " 'B_total_rounds_fought',\n",
       " 'B_total_time_fought(seconds)',\n",
       " 'B_total_title_bouts',\n",
       " 'B_win_by_Decision_Majority',\n",
       " 'B_win_by_Decision_Split',\n",
       " 'B_win_by_Decision_Unanimous',\n",
       " 'B_win_by_KO/TKO',\n",
       " 'B_win_by_Submission',\n",
       " 'B_win_by_TKO_Doctor_Stoppage',\n",
       " 'B_wins',\n",
       " 'B_Stance',\n",
       " 'B_Height_cms',\n",
       " 'B_Reach_cms',\n",
       " 'B_Weight_lbs',\n",
       " 'R_current_lose_streak',\n",
       " 'R_current_win_streak',\n",
       " 'R_draw',\n",
       " 'R_avg_BODY_att',\n",
       " 'R_avg_BODY_landed',\n",
       " 'R_avg_CLINCH_att',\n",
       " 'R_avg_CLINCH_landed',\n",
       " 'R_avg_DISTANCE_att',\n",
       " 'R_avg_DISTANCE_landed',\n",
       " 'R_avg_GROUND_att',\n",
       " 'R_avg_GROUND_landed',\n",
       " 'R_avg_HEAD_att',\n",
       " 'R_avg_HEAD_landed',\n",
       " 'R_avg_KD',\n",
       " 'R_avg_LEG_att',\n",
       " 'R_avg_LEG_landed',\n",
       " 'R_avg_PASS',\n",
       " 'R_avg_REV',\n",
       " 'R_avg_SIG_STR_att',\n",
       " 'R_avg_SIG_STR_landed',\n",
       " 'R_avg_SIG_STR_pct',\n",
       " 'R_avg_SUB_ATT',\n",
       " 'R_avg_TD_att',\n",
       " 'R_avg_TD_landed',\n",
       " 'R_avg_TD_pct',\n",
       " 'R_avg_TOTAL_STR_att',\n",
       " 'R_avg_TOTAL_STR_landed',\n",
       " 'R_longest_win_streak',\n",
       " 'R_losses',\n",
       " 'R_avg_opp_BODY_att',\n",
       " 'R_avg_opp_BODY_landed',\n",
       " 'R_avg_opp_CLINCH_att',\n",
       " 'R_avg_opp_CLINCH_landed',\n",
       " 'R_avg_opp_DISTANCE_att',\n",
       " 'R_avg_opp_DISTANCE_landed',\n",
       " 'R_avg_opp_GROUND_att',\n",
       " 'R_avg_opp_GROUND_landed',\n",
       " 'R_avg_opp_HEAD_att',\n",
       " 'R_avg_opp_HEAD_landed',\n",
       " 'R_avg_opp_KD',\n",
       " 'R_avg_opp_LEG_att',\n",
       " 'R_avg_opp_LEG_landed',\n",
       " 'R_avg_opp_PASS',\n",
       " 'R_avg_opp_REV',\n",
       " 'R_avg_opp_SIG_STR_att',\n",
       " 'R_avg_opp_SIG_STR_landed',\n",
       " 'R_avg_opp_SIG_STR_pct',\n",
       " 'R_avg_opp_SUB_ATT',\n",
       " 'R_avg_opp_TD_att',\n",
       " 'R_avg_opp_TD_landed',\n",
       " 'R_avg_opp_TD_pct',\n",
       " 'R_avg_opp_TOTAL_STR_att',\n",
       " 'R_avg_opp_TOTAL_STR_landed',\n",
       " 'R_total_rounds_fought',\n",
       " 'R_total_time_fought(seconds)',\n",
       " 'R_total_title_bouts',\n",
       " 'R_win_by_Decision_Majority',\n",
       " 'R_win_by_Decision_Split',\n",
       " 'R_win_by_Decision_Unanimous',\n",
       " 'R_win_by_KO/TKO',\n",
       " 'R_win_by_Submission',\n",
       " 'R_win_by_TKO_Doctor_Stoppage',\n",
       " 'R_wins',\n",
       " 'R_Stance',\n",
       " 'R_Height_cms',\n",
       " 'R_Reach_cms',\n",
       " 'R_Weight_lbs',\n",
       " 'B_age',\n",
       " 'R_age',\n",
       " 'Winner_name',\n",
       " 'Loser_name']"
      ]
     },
     "metadata": {},
     "execution_count": 35
    },
    {
     "output_type": "display_data",
     "data": {
      "text/plain": "<IPython.core.display.Javascript object>",
      "application/javascript": "\n            setTimeout(function() {\n                var nbb_cell_id = 35;\n                var nbb_unformatted_code = \"data['data'].columns\";\n                var nbb_formatted_code = \"data[\\\"data\\\"].columns\";\n                var nbb_cells = Jupyter.notebook.get_cells();\n                for (var i = 0; i < nbb_cells.length; ++i) {\n                    if (nbb_cells[i].input_prompt_number == nbb_cell_id) {\n                        if (nbb_cells[i].get_text() == nbb_unformatted_code) {\n                             nbb_cells[i].set_text(nbb_formatted_code);\n                        }\n                        break;\n                    }\n                }\n            }, 500);\n            "
     },
     "metadata": {}
    }
   ],
   "source": [
    "data['data'].columns"
   ]
  },
  {
   "cell_type": "code",
   "execution_count": 62,
   "metadata": {},
   "outputs": [
    {
     "output_type": "display_data",
     "data": {
      "text/plain": "<IPython.core.display.Javascript object>",
      "application/javascript": "\n            setTimeout(function() {\n                var nbb_cell_id = 62;\n                var nbb_unformatted_code = \"# Onley data from 2017+\\n\\ndata[\\\"data\\\"] = (\\n    data[\\\"data\\\"]\\n    .where(F.col(\\\"date\\\") > \\\"2017-01-01\\\")\\n    .withColumn(\\n        \\\"Winner_name\\\",\\n        F.when(F.col(\\\"Winner\\\") == \\\"Red\\\", F.col(\\\"R_fighter\\\")).otherwise(\\n            F.col(\\\"B_fighter\\\")\\n        ),\\n    )\\n    .withColumn(\\n        \\\"Losser_name\\\",\\n        F.when(F.col(\\\"Winner\\\") == \\\"Red\\\", F.col(\\\"B_fighter\\\")).otherwise(\\n            F.col(\\\"R_fighter\\\")\\n        ),\\n    )\\n)\";\n                var nbb_formatted_code = \"# Onley data from 2017+\\n\\ndata[\\\"data\\\"] = (\\n    data[\\\"data\\\"]\\n    .where(F.col(\\\"date\\\") > \\\"2017-01-01\\\")\\n    .withColumn(\\n        \\\"Winner_name\\\",\\n        F.when(F.col(\\\"Winner\\\") == \\\"Red\\\", F.col(\\\"R_fighter\\\")).otherwise(\\n            F.col(\\\"B_fighter\\\")\\n        ),\\n    )\\n    .withColumn(\\n        \\\"Losser_name\\\",\\n        F.when(F.col(\\\"Winner\\\") == \\\"Red\\\", F.col(\\\"B_fighter\\\")).otherwise(\\n            F.col(\\\"R_fighter\\\")\\n        ),\\n    )\\n)\";\n                var nbb_cells = Jupyter.notebook.get_cells();\n                for (var i = 0; i < nbb_cells.length; ++i) {\n                    if (nbb_cells[i].input_prompt_number == nbb_cell_id) {\n                        if (nbb_cells[i].get_text() == nbb_unformatted_code) {\n                             nbb_cells[i].set_text(nbb_formatted_code);\n                        }\n                        break;\n                    }\n                }\n            }, 500);\n            "
     },
     "metadata": {}
    }
   ],
   "source": [
    "# Onley data from 2017+\n",
    "\n",
    "data[\"data\"] = (\n",
    "    data[\"data\"]\n",
    "    .where(F.col(\"date\") > \"2017-01-01\")\n",
    "    .withColumn(\n",
    "        \"Winner_name\",\n",
    "        F.when(F.col(\"Winner\") == \"Red\", F.col(\"R_fighter\")).otherwise(\n",
    "            F.col(\"B_fighter\")\n",
    "        ),\n",
    "    )\n",
    "    .withColumn(\n",
    "        \"Losser_name\",\n",
    "        F.when(F.col(\"Winner\") == \"Red\", F.col(\"B_fighter\")).otherwise(\n",
    "            F.col(\"R_fighter\")\n",
    "        ),\n",
    "    )\n",
    ")"
   ]
  },
  {
   "cell_type": "code",
   "execution_count": 63,
   "metadata": {},
   "outputs": [
    {
     "output_type": "stream",
     "name": "stdout",
     "text": [
      "+--------------------+--------------+\n|         Winner_name|   Losser_name|\n+--------------------+--------------+\n|        Henry Cejudo| Marlon Moraes|\n|Valentina Shevchenko|   Jessica Eye|\n|       Tony Ferguson|Donald Cerrone|\n|            Petr Yan| Jimmie Rivera|\n|       Blagoy Ivanov|   Tai Tuivasa|\n+--------------------+--------------+\nonly showing top 5 rows\n\n"
     ]
    },
    {
     "output_type": "display_data",
     "data": {
      "text/plain": "<IPython.core.display.Javascript object>",
      "application/javascript": "\n            setTimeout(function() {\n                var nbb_cell_id = 63;\n                var nbb_unformatted_code = \"data['data'].select('Winner_name', \\\"Losser_name\\\").show(5)\";\n                var nbb_formatted_code = \"data[\\\"data\\\"].select(\\\"Winner_name\\\", \\\"Losser_name\\\").show(5)\";\n                var nbb_cells = Jupyter.notebook.get_cells();\n                for (var i = 0; i < nbb_cells.length; ++i) {\n                    if (nbb_cells[i].input_prompt_number == nbb_cell_id) {\n                        if (nbb_cells[i].get_text() == nbb_unformatted_code) {\n                             nbb_cells[i].set_text(nbb_formatted_code);\n                        }\n                        break;\n                    }\n                }\n            }, 500);\n            "
     },
     "metadata": {}
    }
   ],
   "source": [
    "data['data'].select('Winner_name', \"Losser_name\").show(5)"
   ]
  },
  {
   "cell_type": "code",
   "execution_count": 65,
   "metadata": {},
   "outputs": [
    {
     "output_type": "display_data",
     "data": {
      "text/plain": "<IPython.core.display.Javascript object>",
      "application/javascript": "\n            setTimeout(function() {\n                var nbb_cell_id = 65;\n                var nbb_unformatted_code = \"losses = (\\n    data[\\\"data\\\"]\\n    .withColumnRenamed(\\\"Losser_name\\\", \\\"name\\\")\\n    .groupBy(\\\"name\\\")\\n    .count()\\n    .select(\\\"name\\\", F.expr(\\\"count as losses\\\"))\\n)\\n\\nwins = (\\n    data[\\\"data\\\"]\\n    .withColumnRenamed(\\\"Winner_name\\\", \\\"name\\\")\\n    .groupBy(\\\"name\\\")\\n    .count()\\n    .select(\\\"name\\\", F.expr(\\\"count as wins\\\"))\\n)\";\n                var nbb_formatted_code = \"losses = (\\n    data[\\\"data\\\"]\\n    .withColumnRenamed(\\\"Losser_name\\\", \\\"name\\\")\\n    .groupBy(\\\"name\\\")\\n    .count()\\n    .select(\\\"name\\\", F.expr(\\\"count as losses\\\"))\\n)\\n\\nwins = (\\n    data[\\\"data\\\"]\\n    .withColumnRenamed(\\\"Winner_name\\\", \\\"name\\\")\\n    .groupBy(\\\"name\\\")\\n    .count()\\n    .select(\\\"name\\\", F.expr(\\\"count as wins\\\"))\\n)\";\n                var nbb_cells = Jupyter.notebook.get_cells();\n                for (var i = 0; i < nbb_cells.length; ++i) {\n                    if (nbb_cells[i].input_prompt_number == nbb_cell_id) {\n                        if (nbb_cells[i].get_text() == nbb_unformatted_code) {\n                             nbb_cells[i].set_text(nbb_formatted_code);\n                        }\n                        break;\n                    }\n                }\n            }, 500);\n            "
     },
     "metadata": {}
    }
   ],
   "source": [
    "losses = (\n",
    "    data[\"data\"]\n",
    "    .withColumnRenamed(\"Losser_name\", \"name\")\n",
    "    .groupBy(\"name\")\n",
    "    .count()\n",
    "    .select(\"name\", F.expr(\"count as losses\"))\n",
    ")\n",
    "\n",
    "wins = (\n",
    "    data[\"data\"]\n",
    "    .withColumnRenamed(\"Winner_name\", \"name\")\n",
    "    .groupBy(\"name\")\n",
    "    .count()\n",
    "    .select(\"name\", F.expr(\"count as wins\"))\n",
    ")"
   ]
  },
  {
   "cell_type": "code",
   "execution_count": 45,
   "metadata": {},
   "outputs": [
    {
     "output_type": "stream",
     "name": "stdout",
     "text": [
      "+-------------------+----+\n|               name|wins|\n+-------------------+----+\n|        Chad Mendes|   1|\n|          Zak Ottow|   3|\n|Deiveson Figueiredo|   3|\n|       Marcelo Golm|   1|\n|           Jon Tuck|   1|\n|    Danielle Taylor|   1|\n|     Montel Jackson|   2|\n| Ovince Saint Preux|   4|\n| Alexander Yakovlev|   1|\n|         Polo Reyes|   1|\n|     Corey Anderson|   3|\n|   Stephen Thompson|   1|\n|     Augusto Mendes|   1|\n|       Matt Schnell|   3|\n|      Gilbert Burns|   4|\n|        Josh Emmett|   3|\n|         Juan Adams|   1|\n|      Ricardo Lamas|   2|\n|       Alex Caceres|   2|\n|          Kevin Lee|   3|\n+-------------------+----+\nonly showing top 20 rows\n\n"
     ]
    },
    {
     "output_type": "display_data",
     "data": {
      "text/plain": "<IPython.core.display.Javascript object>",
      "application/javascript": "\n            setTimeout(function() {\n                var nbb_cell_id = 45;\n                var nbb_unformatted_code = \"wins.show()\";\n                var nbb_formatted_code = \"wins.show()\";\n                var nbb_cells = Jupyter.notebook.get_cells();\n                for (var i = 0; i < nbb_cells.length; ++i) {\n                    if (nbb_cells[i].input_prompt_number == nbb_cell_id) {\n                        if (nbb_cells[i].get_text() == nbb_unformatted_code) {\n                             nbb_cells[i].set_text(nbb_formatted_code);\n                        }\n                        break;\n                    }\n                }\n            }, 500);\n            "
     },
     "metadata": {}
    }
   ],
   "source": [
    "wins.show()"
   ]
  },
  {
   "cell_type": "code",
   "execution_count": 71,
   "metadata": {},
   "outputs": [
    {
     "output_type": "execute_result",
     "data": {
      "text/plain": [
       "763"
      ]
     },
     "metadata": {},
     "execution_count": 71
    },
    {
     "output_type": "display_data",
     "data": {
      "text/plain": "<IPython.core.display.Javascript object>",
      "application/javascript": "\n            setTimeout(function() {\n                var nbb_cell_id = 71;\n                var nbb_unformatted_code = \"# We required to know the quantity of winners and lossers to make a correct join\\n\\nred = data[\\\"data\\\"].select(\\\"R_fighter\\\").distinct()\\nblue = data[\\\"data\\\"].select(\\\"B_fighter\\\").distinct()\\ncheck = red.union(blue).distinct().count()\\ncheck\";\n                var nbb_formatted_code = \"# We required to know the quantity of winners and lossers to make a correct join\\n\\nred = data[\\\"data\\\"].select(\\\"R_fighter\\\").distinct()\\nblue = data[\\\"data\\\"].select(\\\"B_fighter\\\").distinct()\\ncheck = red.union(blue).distinct().count()\\ncheck\";\n                var nbb_cells = Jupyter.notebook.get_cells();\n                for (var i = 0; i < nbb_cells.length; ++i) {\n                    if (nbb_cells[i].input_prompt_number == nbb_cell_id) {\n                        if (nbb_cells[i].get_text() == nbb_unformatted_code) {\n                             nbb_cells[i].set_text(nbb_formatted_code);\n                        }\n                        break;\n                    }\n                }\n            }, 500);\n            "
     },
     "metadata": {}
    }
   ],
   "source": [
    "# We required to know the quantity of winners and lossers to make a correct join\n",
    "\n",
    "red = data[\"data\"].select(\"R_fighter\").distinct()\n",
    "blue = data[\"data\"].select(\"B_fighter\").distinct()\n",
    "check = red.union(blue).distinct().count()\n",
    "check"
   ]
  },
  {
   "cell_type": "code",
   "execution_count": 72,
   "metadata": {},
   "outputs": [
    {
     "output_type": "stream",
     "name": "stdout",
     "text": [
      "535\n",
      "645\n"
     ]
    },
    {
     "output_type": "display_data",
     "data": {
      "text/plain": "<IPython.core.display.Javascript object>",
      "application/javascript": "\n            setTimeout(function() {\n                var nbb_cell_id = 72;\n                var nbb_unformatted_code = \"print(wins.distinct().count())\\nprint(losses.distinct().count())\";\n                var nbb_formatted_code = \"print(wins.distinct().count())\\nprint(losses.distinct().count())\";\n                var nbb_cells = Jupyter.notebook.get_cells();\n                for (var i = 0; i < nbb_cells.length; ++i) {\n                    if (nbb_cells[i].input_prompt_number == nbb_cell_id) {\n                        if (nbb_cells[i].get_text() == nbb_unformatted_code) {\n                             nbb_cells[i].set_text(nbb_formatted_code);\n                        }\n                        break;\n                    }\n                }\n            }, 500);\n            "
     },
     "metadata": {}
    }
   ],
   "source": [
    "print(wins.distinct().count())\n",
    "print(losses.distinct().count())"
   ]
  },
  {
   "cell_type": "code",
   "execution_count": 73,
   "metadata": {},
   "outputs": [
    {
     "output_type": "stream",
     "name": "stdout",
     "text": [
      "417\n"
     ]
    },
    {
     "output_type": "display_data",
     "data": {
      "text/plain": "<IPython.core.display.Javascript object>",
      "application/javascript": "\n            setTimeout(function() {\n                var nbb_cell_id = 73;\n                var nbb_unformatted_code = \"# Inner join\\nwin_loss_data = wins.join(losses, \\\"name\\\")\\nprint(win_loss_data.distinct().count())\";\n                var nbb_formatted_code = \"# Inner join\\nwin_loss_data = wins.join(losses, \\\"name\\\")\\nprint(win_loss_data.distinct().count())\";\n                var nbb_cells = Jupyter.notebook.get_cells();\n                for (var i = 0; i < nbb_cells.length; ++i) {\n                    if (nbb_cells[i].input_prompt_number == nbb_cell_id) {\n                        if (nbb_cells[i].get_text() == nbb_unformatted_code) {\n                             nbb_cells[i].set_text(nbb_formatted_code);\n                        }\n                        break;\n                    }\n                }\n            }, 500);\n            "
     },
     "metadata": {}
    }
   ],
   "source": [
    "# Inner join\n",
    "win_loss_data = wins.join(losses, \"name\")\n",
    "print(win_loss_data.distinct().count())\n",
    "\n",
    "# No es útil en este caso. Esta es la intersección. Se incluyen solo aquellos que ganaron y perdieron"
   ]
  },
  {
   "cell_type": "code",
   "execution_count": 74,
   "metadata": {},
   "outputs": [
    {
     "output_type": "stream",
     "name": "stdout",
     "text": [
      "535\n"
     ]
    },
    {
     "output_type": "display_data",
     "data": {
      "text/plain": "<IPython.core.display.Javascript object>",
      "application/javascript": "\n            setTimeout(function() {\n                var nbb_cell_id = 74;\n                var nbb_unformatted_code = \"# Left join\\nwin_loss_data = wins.join(losses, \\\"name\\\", \\\"left\\\")\\nprint(win_loss_data.distinct().count())\";\n                var nbb_formatted_code = \"# Left join\\nwin_loss_data = wins.join(losses, \\\"name\\\", \\\"left\\\")\\nprint(win_loss_data.distinct().count())\";\n                var nbb_cells = Jupyter.notebook.get_cells();\n                for (var i = 0; i < nbb_cells.length; ++i) {\n                    if (nbb_cells[i].input_prompt_number == nbb_cell_id) {\n                        if (nbb_cells[i].get_text() == nbb_unformatted_code) {\n                             nbb_cells[i].set_text(nbb_formatted_code);\n                        }\n                        break;\n                    }\n                }\n            }, 500);\n            "
     },
     "metadata": {}
    }
   ],
   "source": [
    "# Left join\n",
    "win_loss_data = wins.join(losses, \"name\", \"left\")\n",
    "print(win_loss_data.distinct().count())\n",
    "\n",
    "# No es útil en este caso. Solo incluye aquellos que hayan ganado almenos una vez\n"
   ]
  },
  {
   "cell_type": "code",
   "execution_count": 75,
   "metadata": {},
   "outputs": [
    {
     "output_type": "stream",
     "name": "stdout",
     "text": [
      "645\n"
     ]
    },
    {
     "output_type": "display_data",
     "data": {
      "text/plain": "<IPython.core.display.Javascript object>",
      "application/javascript": "\n            setTimeout(function() {\n                var nbb_cell_id = 75;\n                var nbb_unformatted_code = \"# Right join\\nwin_loss_data = wins.join(losses, \\\"name\\\", \\\"right\\\")\\nprint(win_loss_data.distinct().count())\\n\\n# No es \\u00fatil en este caso. Solo incluye aquellos que hayan perdido almenos una vez\";\n                var nbb_formatted_code = \"# Right join\\nwin_loss_data = wins.join(losses, \\\"name\\\", \\\"right\\\")\\nprint(win_loss_data.distinct().count())\\n\\n# No es \\u00fatil en este caso. Solo incluye aquellos que hayan perdido almenos una vez\";\n                var nbb_cells = Jupyter.notebook.get_cells();\n                for (var i = 0; i < nbb_cells.length; ++i) {\n                    if (nbb_cells[i].input_prompt_number == nbb_cell_id) {\n                        if (nbb_cells[i].get_text() == nbb_unformatted_code) {\n                             nbb_cells[i].set_text(nbb_formatted_code);\n                        }\n                        break;\n                    }\n                }\n            }, 500);\n            "
     },
     "metadata": {}
    }
   ],
   "source": [
    "# Right join\n",
    "win_loss_data = wins.join(losses, \"name\", \"right\")\n",
    "print(win_loss_data.distinct().count())\n",
    "\n",
    "# No es útil en este caso. Solo incluye aquellos que hayan perdido almenos una vez"
   ]
  },
  {
   "cell_type": "code",
   "execution_count": 84,
   "metadata": {},
   "outputs": [
    {
     "output_type": "stream",
     "name": "stdout",
     "text": [
      "763\n"
     ]
    },
    {
     "output_type": "display_data",
     "data": {
      "text/plain": "<IPython.core.display.Javascript object>",
      "application/javascript": "\n            setTimeout(function() {\n                var nbb_cell_id = 84;\n                var nbb_unformatted_code = \"# Outer join\\nwin_loss_data = wins.join(losses, \\\"name\\\", \\\"outer\\\")\\nprint(win_loss_data.distinct().count())\";\n                var nbb_formatted_code = \"# Outer join\\nwin_loss_data = wins.join(losses, \\\"name\\\", \\\"outer\\\")\\nprint(win_loss_data.distinct().count())\";\n                var nbb_cells = Jupyter.notebook.get_cells();\n                for (var i = 0; i < nbb_cells.length; ++i) {\n                    if (nbb_cells[i].input_prompt_number == nbb_cell_id) {\n                        if (nbb_cells[i].get_text() == nbb_unformatted_code) {\n                             nbb_cells[i].set_text(nbb_formatted_code);\n                        }\n                        break;\n                    }\n                }\n            }, 500);\n            "
     },
     "metadata": {}
    }
   ],
   "source": [
    "# Outer join\n",
    "win_loss_data = wins.join(losses, \"name\", \"outer\")\n",
    "print(win_loss_data.distinct().count())\n"
   ]
  },
  {
   "cell_type": "code",
   "execution_count": 77,
   "metadata": {},
   "outputs": [
    {
     "output_type": "stream",
     "name": "stdout",
     "text": [
      "+--------------------+----+------+\n|                name|wins|losses|\n+--------------------+----+------+\n|       Thiago Santos|   8|     1|\n|     Israel Adesanya|   6|  null|\n|Alexander Volkano...|   6|  null|\n|Anthony Rocco Martin|   6|     1|\n|   Aljamain Sterling|   6|     2|\n+--------------------+----+------+\nonly showing top 5 rows\n\n"
     ]
    },
    {
     "output_type": "display_data",
     "data": {
      "text/plain": "<IPython.core.display.Javascript object>",
      "application/javascript": "\n            setTimeout(function() {\n                var nbb_cell_id = 77;\n                var nbb_unformatted_code = \"# More wins\\n\\nwin_loss_data.orderBy(F.desc(\\\"wins\\\")).show(5)\";\n                var nbb_formatted_code = \"# More wins\\n\\nwin_loss_data.orderBy(F.desc(\\\"wins\\\")).show(5)\";\n                var nbb_cells = Jupyter.notebook.get_cells();\n                for (var i = 0; i < nbb_cells.length; ++i) {\n                    if (nbb_cells[i].input_prompt_number == nbb_cell_id) {\n                        if (nbb_cells[i].get_text() == nbb_unformatted_code) {\n                             nbb_cells[i].set_text(nbb_formatted_code);\n                        }\n                        break;\n                    }\n                }\n            }, 500);\n            "
     },
     "metadata": {}
    }
   ],
   "source": [
    "# More wins\n",
    "\n",
    "win_loss_data.orderBy(F.desc(\"wins\")).show(5)"
   ]
  },
  {
   "cell_type": "code",
   "execution_count": 85,
   "metadata": {},
   "outputs": [
    {
     "output_type": "display_data",
     "data": {
      "text/plain": "<IPython.core.display.Javascript object>",
      "application/javascript": "\n            setTimeout(function() {\n                var nbb_cell_id = 85;\n                var nbb_unformatted_code = \"# Youngest fighter that never lost\\nwin_loss_data = win_loss_data.join(\\n    data[\\\"raw_fighter_details\\\"].withColumnRenamed(\\\"fighter_name\\\", \\\"name\\\"),\\n    \\\"name\\\",\\n    \\\"left\\\"\\n)\";\n                var nbb_formatted_code = \"# Youngest fighter that never lost\\nwin_loss_data = win_loss_data.join(\\n    data[\\\"raw_fighter_details\\\"].withColumnRenamed(\\\"fighter_name\\\", \\\"name\\\"),\\n    \\\"name\\\",\\n    \\\"left\\\",\\n)\";\n                var nbb_cells = Jupyter.notebook.get_cells();\n                for (var i = 0; i < nbb_cells.length; ++i) {\n                    if (nbb_cells[i].input_prompt_number == nbb_cell_id) {\n                        if (nbb_cells[i].get_text() == nbb_unformatted_code) {\n                             nbb_cells[i].set_text(nbb_formatted_code);\n                        }\n                        break;\n                    }\n                }\n            }, 500);\n            "
     },
     "metadata": {}
    }
   ],
   "source": [
    "# Youngest fighter that never lost\n",
    "win_loss_data = win_loss_data.join(\n",
    "    data[\"raw_fighter_details\"].withColumnRenamed(\"fighter_name\", \"name\"),\n",
    "    \"name\",\n",
    "    \"left\"\n",
    ")"
   ]
  },
  {
   "cell_type": "code",
   "execution_count": 86,
   "metadata": {},
   "outputs": [
    {
     "output_type": "stream",
     "name": "stdout",
     "text": [
      "+------------+\n|         DOB|\n+------------+\n|May 01, 1985|\n|Apr 20, 1991|\n|Aug 11, 1986|\n|Oct 25, 1989|\n|Dec 18, 1987|\n+------------+\nonly showing top 5 rows\n\n"
     ]
    },
    {
     "output_type": "display_data",
     "data": {
      "text/plain": "<IPython.core.display.Javascript object>",
      "application/javascript": "\n            setTimeout(function() {\n                var nbb_cell_id = 86;\n                var nbb_unformatted_code = \"win_loss_data.select(\\\"DOB\\\").show(5)\";\n                var nbb_formatted_code = \"win_loss_data.select(\\\"DOB\\\").show(5)\";\n                var nbb_cells = Jupyter.notebook.get_cells();\n                for (var i = 0; i < nbb_cells.length; ++i) {\n                    if (nbb_cells[i].input_prompt_number == nbb_cell_id) {\n                        if (nbb_cells[i].get_text() == nbb_unformatted_code) {\n                             nbb_cells[i].set_text(nbb_formatted_code);\n                        }\n                        break;\n                    }\n                }\n            }, 500);\n            "
     },
     "metadata": {}
    }
   ],
   "source": [
    "win_loss_data.select(\"DOB\").show(5)"
   ]
  },
  {
   "cell_type": "code",
   "execution_count": 87,
   "metadata": {},
   "outputs": [
    {
     "output_type": "display_data",
     "data": {
      "text/plain": "<IPython.core.display.Javascript object>",
      "application/javascript": "\n            setTimeout(function() {\n                var nbb_cell_id = 87;\n                var nbb_unformatted_code = \"win_loss_data = (\\n    win_loss_data.withColumn(\\\"birthday\\\", F.to_date(F.col(\\\"DOB\\\"), \\\"MMM dd, yyyy\\\"))\\n    .withColumn(\\n        \\\"age\\\", F.round(F.months_between(F.current_date(), F.col(\\\"birthday\\\")) / 12, 1)\\n    )\\n    .select(\\\"name\\\", \\\"wins\\\", \\\"losses\\\", \\\"age\\\")\\n)\";\n                var nbb_formatted_code = \"win_loss_data = (\\n    win_loss_data.withColumn(\\\"birthday\\\", F.to_date(F.col(\\\"DOB\\\"), \\\"MMM dd, yyyy\\\"))\\n    .withColumn(\\n        \\\"age\\\", F.round(F.months_between(F.current_date(), F.col(\\\"birthday\\\")) / 12, 1)\\n    )\\n    .select(\\\"name\\\", \\\"wins\\\", \\\"losses\\\", \\\"age\\\")\\n)\";\n                var nbb_cells = Jupyter.notebook.get_cells();\n                for (var i = 0; i < nbb_cells.length; ++i) {\n                    if (nbb_cells[i].input_prompt_number == nbb_cell_id) {\n                        if (nbb_cells[i].get_text() == nbb_unformatted_code) {\n                             nbb_cells[i].set_text(nbb_formatted_code);\n                        }\n                        break;\n                    }\n                }\n            }, 500);\n            "
     },
     "metadata": {}
    }
   ],
   "source": [
    "win_loss_data = (\n",
    "    win_loss_data.withColumn(\"birthday\", F.to_date(F.col(\"DOB\"), \"MMM dd, yyyy\"))\n",
    "    .withColumn(\n",
    "        \"age\", F.round(F.months_between(F.current_date(), F.col(\"birthday\")) / 12, 1)\n",
    "    )\n",
    "    .select(\"name\", \"wins\", \"losses\", \"age\")\n",
    ")"
   ]
  },
  {
   "cell_type": "code",
   "execution_count": 88,
   "metadata": {},
   "outputs": [
    {
     "output_type": "stream",
     "name": "stdout",
     "text": [
      "+-------------------+----+------+----+\n|               name|wins|losses| age|\n+-------------------+----+------+----+\n|        Chad Mendes|   1|     1|35.6|\n|        Kyle Nelson|null|     2|29.7|\n|        Artem Lobov|null|     3|34.4|\n|    Danielle Taylor|   1|     2|31.1|\n|Deiveson Figueiredo|   3|     1|33.0|\n+-------------------+----+------+----+\nonly showing top 5 rows\n\n"
     ]
    },
    {
     "output_type": "display_data",
     "data": {
      "text/plain": "<IPython.core.display.Javascript object>",
      "application/javascript": "\n            setTimeout(function() {\n                var nbb_cell_id = 88;\n                var nbb_unformatted_code = \"win_loss_data.show(5)\";\n                var nbb_formatted_code = \"win_loss_data.show(5)\";\n                var nbb_cells = Jupyter.notebook.get_cells();\n                for (var i = 0; i < nbb_cells.length; ++i) {\n                    if (nbb_cells[i].input_prompt_number == nbb_cell_id) {\n                        if (nbb_cells[i].get_text() == nbb_unformatted_code) {\n                             nbb_cells[i].set_text(nbb_formatted_code);\n                        }\n                        break;\n                    }\n                }\n            }, 500);\n            "
     },
     "metadata": {}
    }
   ],
   "source": [
    "win_loss_data.show(5)"
   ]
  },
  {
   "cell_type": "code",
   "execution_count": 93,
   "metadata": {},
   "outputs": [
    {
     "output_type": "stream",
     "name": "stdout",
     "text": [
      "+--------------------+----+------+----+\n|                name|wins|losses| age|\n+--------------------+----+------+----+\n|     Israel Adesanya|   6|  null|31.4|\n|      Dustin Poirier|   6|  null|31.9|\n|Alexander Volkano...|   6|  null|32.2|\n|        Kamaru Usman|   6|  null|33.6|\n+--------------------+----+------+----+\n\n"
     ]
    },
    {
     "output_type": "display_data",
     "data": {
      "text/plain": "<IPython.core.display.Javascript object>",
      "application/javascript": "\n            setTimeout(function() {\n                var nbb_cell_id = 93;\n                var nbb_unformatted_code = \"win_loss_data.where(F.col(\\\"losses\\\").isNull()).orderBy(\\n    F.asc(\\\"age\\\"), F.desc(\\\"wins\\\")\\n).where(\\\"wins > 5\\\").show(5)\";\n                var nbb_formatted_code = \"win_loss_data.where(F.col(\\\"losses\\\").isNull()).orderBy(\\n    F.asc(\\\"age\\\"), F.desc(\\\"wins\\\")\\n).where(\\\"wins > 5\\\").show(5)\";\n                var nbb_cells = Jupyter.notebook.get_cells();\n                for (var i = 0; i < nbb_cells.length; ++i) {\n                    if (nbb_cells[i].input_prompt_number == nbb_cell_id) {\n                        if (nbb_cells[i].get_text() == nbb_unformatted_code) {\n                             nbb_cells[i].set_text(nbb_formatted_code);\n                        }\n                        break;\n                    }\n                }\n            }, 500);\n            "
     },
     "metadata": {}
    }
   ],
   "source": [
    "win_loss_data.where(F.col(\"losses\").isNull()).orderBy(\n",
    "    F.asc(\"age\"), F.desc(\"wins\")\n",
    ").where(\"wins > 5\").show(5)"
   ]
  }
 ]
}