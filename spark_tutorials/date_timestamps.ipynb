{
 "metadata": {
  "language_info": {
   "codemirror_mode": {
    "name": "ipython",
    "version": 3
   },
   "file_extension": ".py",
   "mimetype": "text/x-python",
   "name": "python",
   "nbconvert_exporter": "python",
   "pygments_lexer": "ipython3",
   "version": "3.7.9-final"
  },
  "orig_nbformat": 2,
  "kernelspec": {
   "name": "python3",
   "display_name": "Python 3.7.9 64-bit",
   "metadata": {
    "interpreter": {
     "hash": "529c9f8759bede575fc3c1c0a7d57d5ffc5b30205a4d6a007108b8ded7bffe54"
    }
   }
  }
 },
 "nbformat": 4,
 "nbformat_minor": 2,
 "cells": [
  {
   "cell_type": "code",
   "execution_count": 1,
   "metadata": {},
   "outputs": [],
   "source": [
    "from pyspark.sql import SparkSession\n",
    "\n",
    "spark = SparkSession.builder.appName('Spark Time and Dates').getOrCreate()"
   ]
  },
  {
   "cell_type": "code",
   "execution_count": 2,
   "metadata": {},
   "outputs": [],
   "source": [
    "from pyspark.sql import Row\n",
    "from pyspark.sql.types import StructField, StructType, StringType\n",
    "import pyspark.sql.functions as F\n",
    "from pyspark.sql import types as T"
   ]
  },
  {
   "cell_type": "code",
   "execution_count": 34,
   "metadata": {},
   "outputs": [],
   "source": [
    "rows = [\n",
    "    Row(\"2020-01-03\"),\n",
    "    Row(\"2020 01 10\"),\n",
    "    Row(\"2020 Jan 10\"),\n",
    "    Row(\"Sat, 11 Jan 2020\"),\n",
    "]\n",
    "\n",
    "myrdd = spark.sparkContext.parallelize(rows)\n",
    "\n",
    "schema = T.StructType(\n",
    "    [\n",
    "        T.StructField(name=\"date_str\", dataType=T.StringType(), nullable=True)\n",
    "    ]\n",
    ")\n",
    "\n",
    "df = spark.createDataFrame(myrdd, schema)"
   ]
  },
  {
   "cell_type": "code",
   "execution_count": 28,
   "metadata": {},
   "outputs": [
    {
     "output_type": "stream",
     "name": "stdout",
     "text": [
      "+----------------+\n|        date_str|\n+----------------+\n|      2020-01-03|\n|      2020 01 10|\n|     2020 Jan 10|\n|Sat, 11 Jan 2020|\n+----------------+\n\n"
     ]
    }
   ],
   "source": [
    "df.show()"
   ]
  },
  {
   "cell_type": "code",
   "execution_count": 5,
   "metadata": {},
   "outputs": [
    {
     "output_type": "stream",
     "name": "stdout",
     "text": [
      "root\n |-- date_str: string (nullable = true)\n\n"
     ]
    }
   ],
   "source": [
    "df.printSchema()"
   ]
  },
  {
   "cell_type": "code",
   "execution_count": 21,
   "metadata": {},
   "outputs": [],
   "source": [
    "spark.conf.set(\"spark.sql.legacy.timeParserPolicy\",\"LEGACY\")"
   ]
  },
  {
   "cell_type": "code",
   "execution_count": 37,
   "metadata": {},
   "outputs": [],
   "source": [
    "df = df.withColumn(\n",
    "    \"date\",\n",
    "    F.when(\n",
    "        F.to_date(F.col(\"date_str\"), \"yyyy-MM-dd\").isNotNull(),\n",
    "        F.to_date(F.col(\"date_str\"), \"yyyy-MM-dd\")\n",
    "    ).otherwise(\n",
    "        F.when(\n",
    "            F.to_date(F.col(\"date_str\"), \"yyyy MMMM dd\").isNotNull(),\n",
    "            F.to_date(F.col(\"date_str\"), \"yyyy MMMM dd\")\n",
    "        ).otherwise(\n",
    "            F.when(\n",
    "                F.to_date(F.col(\"date_str\"), \"E, dd MMMM yy\").isNotNull(),\n",
    "                F.to_date(F.col(\"date_str\"), \"E, dd MMMM yy\")\n",
    "            ).otherwise(\n",
    "                F.when(\n",
    "                    F.to_date(F.col(\"date_str\"), \"yyyy MM dd\").isNotNull(),\n",
    "                    F.to_date(F.col(\"date_str\"), \"yyyy MM dd\")\n",
    "                )\n",
    "            )\n",
    "        )\n",
    "    )\n",
    ")"
   ]
  },
  {
   "cell_type": "code",
   "execution_count": 38,
   "metadata": {},
   "outputs": [
    {
     "output_type": "stream",
     "name": "stdout",
     "text": [
      "+----------------+----------+\n|        date_str|      date|\n+----------------+----------+\n|      2020-01-03|2020-01-03|\n|      2020 01 10|2020-01-10|\n|     2020 Jan 10|2020-01-10|\n|Sat, 11 Jan 2020|2020-01-11|\n+----------------+----------+\n\n"
     ]
    }
   ],
   "source": [
    "df.show()"
   ]
  },
  {
   "cell_type": "code",
   "execution_count": 39,
   "metadata": {},
   "outputs": [],
   "source": [
    "df = df.withColumn(\n",
    "    \"timestamp\",\n",
    "    F.when(\n",
    "        F.to_timestamp(F.col(\"date_str\"), \"yyyy-MM-dd\").isNotNull(),\n",
    "        F.to_timestamp(F.col(\"date_str\"), \"yyyy-MM-dd\")\n",
    "    ).otherwise(\n",
    "        F.when(\n",
    "            F.to_timestamp(F.col(\"date_str\"), \"yyyy MMMM dd\").isNotNull(),\n",
    "            F.to_timestamp(F.col(\"date_str\"), \"yyyy MMMM dd\")\n",
    "        ).otherwise(\n",
    "            F.when(\n",
    "                F.to_timestamp(F.col(\"date_str\"), \"E, dd MMMM yy\").isNotNull(),\n",
    "                F.to_timestamp(F.col(\"date_str\"), \"E, dd MMMM yy\")\n",
    "            ).otherwise(\n",
    "                F.when(\n",
    "                    F.to_timestamp(F.col(\"date_str\"), \"yyyy MM dd\").isNotNull(),\n",
    "                    F.to_timestamp(F.col(\"date_str\"), \"yyyy MM dd\")\n",
    "                )\n",
    "            )\n",
    "        )\n",
    "    )\n",
    ")"
   ]
  },
  {
   "cell_type": "code",
   "execution_count": null,
   "metadata": {},
   "outputs": [],
   "source": [
    "df.show()"
   ]
  }
 ]
}